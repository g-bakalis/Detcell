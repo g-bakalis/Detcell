{
 "cells": [
  {
   "cell_type": "markdown",
   "id": "f8843c55-d477-4c23-97ff-e720a85cd98f",
   "metadata": {},
   "source": [
    "# ANN Detonation Cell Size Prediction"
   ]
  },
  {
   "cell_type": "markdown",
   "id": "840312f0-4e57-4ddf-bc6c-33c652e2ee9d",
   "metadata": {
    "tags": []
   },
   "source": [
    "### Description and Instructions\n",
    "\n",
    "This is an Artificial Neural Network Model trained to predict the detonation cell size [mm]. \n",
    "\n",
    "The user must provide the ZND values in the corresponding columns of the csv file. More than one rows of data can be used at once.\n",
    "An example csv file is provided.\n",
    "\n",
    "The required ZND parameters are:\n",
    "\n",
    "   - The Mach number \n",
    "   - The Induction length(cm)\n",
    "   - The thermicity Sigma max. [1/sec]\n",
    "   \n",
    "This is v.1 of the 3-feature dimensional model. To cite please use: \n",
    "    https://www.sciencedirect.com/science/article/pii/S2666052022000346\n",
    "\n",
    "For newer versions of the ANN model or models with different input features visit:\n",
    "    https://users.encs.concordia.ca/~hoing/index.html\n"
   ]
  },
  {
   "cell_type": "markdown",
   "id": "73eefa86-294d-4000-99fc-d6937c11645d",
   "metadata": {},
   "source": [
    "### Dependencies"
   ]
  },
  {
   "cell_type": "code",
   "execution_count": 1,
   "id": "b0944c56-41d8-468e-a3bb-22b77aa6cf1a",
   "metadata": {},
   "outputs": [],
   "source": [
    "import pandas as pd\n",
    "import keras\n",
    "from pickle import load\n",
    "import numpy as np\n",
    "\n",
    "import tensorflow as tf\n",
    "import keras_tuner as kt\n",
    "\n",
    "import sklearn\n"
   ]
  },
  {
   "cell_type": "markdown",
   "id": "9b40eb65-8323-40ad-a0ba-88df9c53d227",
   "metadata": {},
   "source": [
    "### Load model and scaler "
   ]
  },
  {
   "cell_type": "code",
   "execution_count": 2,
   "id": "89e7c16d-0ad7-4526-94fc-69eb8b742799",
   "metadata": {},
   "outputs": [
    {
     "name": "stdout",
     "output_type": "stream",
     "text": [
      "WARNING:tensorflow:No training configuration found in the save file, so the model was *not* compiled. Compile it manually.\n"
     ]
    }
   ],
   "source": [
    "model = keras.models.load_model('3f_v1_model.h5')\n",
    "loaded_scaler = load(open('scaler.pkl', 'rb'))\n",
    "\n",
    "# Note: The model is used for prediction only. Therefore you can ignore the warning:\n",
    "#       \"WARNING:tensorflow:No training configuration found in the save file, so the model was *not* compiled. Compile it manually.\" "
   ]
  },
  {
   "cell_type": "code",
   "execution_count": null,
   "id": "12a13200-3068-4d83-90b4-aa473b1fe0ea",
   "metadata": {},
   "outputs": [],
   "source": []
  },
  {
   "cell_type": "markdown",
   "id": "04134ef5-e6af-484c-a86f-59bdbe0bfc17",
   "metadata": {},
   "source": [
    "### Read the ZND data"
   ]
  },
  {
   "cell_type": "code",
   "execution_count": 8,
   "id": "f281dc81-9bed-4ac8-8b1a-31f5e40a8672",
   "metadata": {},
   "outputs": [],
   "source": [
    "df2 = pd.read_csv('ANN_INPUT_DATA.csv')\n",
    "X2 = df2[['Mach number','Induction length(cm)','thermicity Sigma max. [1/sec]']].values\n",
    "X2 = loaded_scaler.transform(X2)\n"
   ]
  },
  {
   "cell_type": "markdown",
   "id": "949f9026-2a92-42bb-b359-e2459ed3df94",
   "metadata": {},
   "source": [
    "### Get Predictions "
   ]
  },
  {
   "cell_type": "code",
   "execution_count": 9,
   "id": "699bf53d-c99d-422e-9907-bba1f62de8c2",
   "metadata": {},
   "outputs": [
    {
     "name": "stdout",
     "output_type": "stream",
     "text": [
      "1/1 [==============================] - 0s 22ms/step\n"
     ]
    }
   ],
   "source": [
    "new_predictions = model.predict(X2);\n"
   ]
  },
  {
   "cell_type": "markdown",
   "id": "1e74de0e-474a-49ec-b6e5-844b7820b212",
   "metadata": {},
   "source": [
    "### Output Precicted Cell Size(s) [mm]"
   ]
  },
  {
   "cell_type": "code",
   "execution_count": 10,
   "id": "8ff69b01-2329-46c8-b6fa-bf24d98d3126",
   "metadata": {},
   "outputs": [
    {
     "name": "stdout",
     "output_type": "stream",
     "text": [
      "4.954\n",
      "5.289\n"
     ]
    }
   ],
   "source": [
    "for sublist in new_predictions:\n",
    "    for number in sublist:\n",
    "        print(f\"{number:.3f}\")\n"
   ]
  },
  {
   "cell_type": "code",
   "execution_count": null,
   "id": "5f0aa438-a59b-48e6-89c5-e1af2940e172",
   "metadata": {},
   "outputs": [],
   "source": []
  },
  {
   "cell_type": "code",
   "execution_count": null,
   "id": "1b3487de-30e2-46a1-a184-f9ab59e8b3b7",
   "metadata": {},
   "outputs": [],
   "source": []
  }
 ],
 "metadata": {
  "kernelspec": {
   "display_name": "Python 3 (ipykernel)",
   "language": "python",
   "name": "python3"
  },
  "language_info": {
   "codemirror_mode": {
    "name": "ipython",
    "version": 3
   },
   "file_extension": ".py",
   "mimetype": "text/x-python",
   "name": "python",
   "nbconvert_exporter": "python",
   "pygments_lexer": "ipython3",
   "version": "3.7.13"
  }
 },
 "nbformat": 4,
 "nbformat_minor": 5
}
