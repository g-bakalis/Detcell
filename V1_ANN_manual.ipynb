{
 "cells": [
  {
   "cell_type": "markdown",
   "id": "9e378517-54eb-4db3-9916-f5d3540c6712",
   "metadata": {},
   "source": [
    "# ANN Detonation Cell Size Prediction"
   ]
  },
  {
   "cell_type": "markdown",
   "id": "93acea00-8e49-422c-830a-561805bf6311",
   "metadata": {},
   "source": [
    "### Description and Instructions\n",
    "\n",
    "This is an Artificial Neural Network Model trained to predict the detonation cell size [mm]. \n",
    "\n",
    "The user must manually provide the ZND values here.\n",
    "\n",
    "The required ZND parameters are:\n",
    "\n",
    "   - The Mach number \n",
    "   - The Induction length(cm)\n",
    "   - The thermicity Sigma max. [1/sec]\n",
    "   \n",
    "This is v.1 of the 3-feature dimensional model. To cite please use: \n",
    "    https://www.sciencedirect.com/science/article/pii/S2666052022000346\n",
    "\n",
    "For newer versions of the ANN model or models with different input features visit:\n",
    "    https://users.encs.concordia.ca/~hoing/index.html\n"
   ]
  },
  {
   "cell_type": "markdown",
   "id": "e355ee55-4184-42df-84c1-e9985af0b5b3",
   "metadata": {},
   "source": [
    "### Dependencies"
   ]
  },
  {
   "cell_type": "code",
   "execution_count": null,
   "id": "e45b4f69-1888-44b9-bac4-24eed821c3f7",
   "metadata": {},
   "outputs": [],
   "source": [
    "import pandas as pd\n",
    "import keras\n",
    "from pickle import load\n",
    "import numpy as np\n",
    "import tensorflow as tf"
   ]
  },
  {
   "cell_type": "markdown",
   "id": "ee719d34-d099-4248-aca1-2c3d09ba9204",
   "metadata": {},
   "source": [
    "### Load model and scaler "
   ]
  },
  {
   "cell_type": "code",
   "execution_count": null,
   "id": "e9b7f4e0-f35f-413b-aab8-abbc86410e5f",
   "metadata": {},
   "outputs": [],
   "source": [
    "model = keras.models.load_model('3f_v1_model.h5')\n",
    "loaded_scaler = load(open('scaler.pkl', 'rb'))\n",
    "\n",
    "# Note: The model is used for prediction only. Therefore you can ignore the warning:\n",
    "#       \"WARNING:tensorflow:No training configuration found in the save file, so the model was *not* compiled. Compile it manually.\" "
   ]
  },
  {
   "cell_type": "markdown",
   "id": "7656a53e-e542-4fb0-b790-f4ff4294e719",
   "metadata": {},
   "source": [
    "### Read the ZND data"
   ]
  },
  {
   "cell_type": "code",
   "execution_count": null,
   "id": "456ad40f-5afe-4bd4-b5a1-32abebecb4d9",
   "metadata": {},
   "outputs": [],
   "source": [
    "# Manually define your input data here\n",
    "# Example: Mach number = 0.5, Induction length (cm) = 10.0, thermicity Sigma max [1/sec] = 0.003\n",
    "input_data = np.array([[0.5, 10.0, 0.003]])\n",
    "X2 = loaded_scaler.transform(input_data)"
   ]
  },
  {
   "cell_type": "markdown",
   "id": "b63b9332-dd5f-4d3e-b64a-c9a2c590b3da",
   "metadata": {},
   "source": [
    "### Get Predictions "
   ]
  },
  {
   "cell_type": "code",
   "execution_count": null,
   "id": "02fcfbdf-048b-41cd-b9c0-1e6dbc486165",
   "metadata": {},
   "outputs": [],
   "source": [
    "new_predictions = model.predict(X2);"
   ]
  },
  {
   "cell_type": "markdown",
   "id": "2c2bc121-f46b-4e9f-8f94-35330cc8dfe6",
   "metadata": {},
   "source": [
    "### Output Precicted Cell Size [mm]"
   ]
  },
  {
   "cell_type": "code",
   "execution_count": null,
   "id": "5c883697-3988-45db-96aa-592e04e3360c",
   "metadata": {},
   "outputs": [],
   "source": [
    "for sublist in new_predictions:\n",
    "    for number in sublist:\n",
    "        print(f\"{number:.3f}\")\n"
   ]
  },
  {
   "cell_type": "code",
   "execution_count": null,
   "id": "9ea3b346-7b61-4154-bc1c-c2e93eac97a6",
   "metadata": {},
   "outputs": [],
   "source": []
  }
 ],
 "metadata": {
  "kernelspec": {
   "display_name": "Python 3 (ipykernel)",
   "language": "python",
   "name": "python3"
  },
  "language_info": {
   "codemirror_mode": {
    "name": "ipython",
    "version": 3
   },
   "file_extension": ".py",
   "mimetype": "text/x-python",
   "name": "python",
   "nbconvert_exporter": "python",
   "pygments_lexer": "ipython3",
   "version": "3.7.13"
  }
 },
 "nbformat": 4,
 "nbformat_minor": 5
}
